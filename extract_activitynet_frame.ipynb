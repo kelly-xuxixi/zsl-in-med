{
 "cells": [
  {
   "cell_type": "code",
   "execution_count": 5,
   "metadata": {},
   "outputs": [],
   "source": [
    "import cv2\n",
    "import numpy as np\n",
    "import os\n",
    "video_path = 'F:\\\\activity_net.1.3\\\\video'\n",
    "video_name = os.listdir(video_path)\n",
    "frame_path = 'I:\\\\activity_net\\\\frame'\n",
    "\n",
    "def extract_frame(file_name):\n",
    "    file_path = os.path.join(video_path,file_name)\n",
    "    \n",
    "    file_index = file_name[0:file_name.find('.')]\n",
    "    \n",
    "    frame_full_path = os.path.join(frame_path,file_index)\n",
    "\n",
    "    try:\n",
    "        os.mkdir(frame_full_path)\n",
    "    except OSError:\n",
    "        pass\n",
    "    \n",
    "    cap = cv2.VideoCapture(file_path)\n",
    "    # the index of the frame to read\n",
    "    to_read = 0\n",
    "    \n",
    "    total_frame = cap.get(cv2.CAP_PROP_FRAME_COUNT)\n",
    "    fps = cap.get(cv2.CAP_PROP_FPS)\n",
    "    while(to_read<total_frame):\n",
    "        ret, frame = cap.read()\n",
    "        if ret is True:\n",
    "            cv2.imwrite(os.path.join(frame_full_path,'img_'+str(int(to_read))+'.jpg'),frame)\n",
    "        to_read = to_read + 2*fps\n",
    "        cap.set(1,to_read)\n"
   ]
  },
  {
   "cell_type": "code",
   "execution_count": 6,
   "metadata": {},
   "outputs": [],
   "source": [
    "video_file = os.listdir(video_path)\n",
    "for i in video_file:\n",
    "    extract_frame(i)"
   ]
  },
  {
   "cell_type": "code",
   "execution_count": null,
   "metadata": {},
   "outputs": [],
   "source": []
  }
 ],
 "metadata": {
  "kernelspec": {
   "display_name": "Python 3",
   "language": "python",
   "name": "python3"
  },
  "language_info": {
   "codemirror_mode": {
    "name": "ipython",
    "version": 3
   },
   "file_extension": ".py",
   "mimetype": "text/x-python",
   "name": "python",
   "nbconvert_exporter": "python",
   "pygments_lexer": "ipython3",
   "version": "3.6.4"
  }
 },
 "nbformat": 4,
 "nbformat_minor": 2
}
